{
 "cells": [
  {
   "cell_type": "code",
   "execution_count": null,
   "id": "initial_id",
   "metadata": {
    "collapsed": true
   },
   "outputs": [],
   "source": [
    "import matplotlib.pyplot as plt\n",
    "import numpy as np"
   ]
  },
  {
   "cell_type": "code",
   "outputs": [],
   "source": [
    "# Define states of Markov's chain\n",
    "states = ['rock', 'paper', 'scissors']\n",
    "winning_moves = {\n",
    "    'rock': 'paper',\n",
    "    'paper': 'scissors',\n",
    "    'scissors': 'rock'\n",
    "}\n",
    "\n",
    "# Initialize the occurrence matrix based on previous moves of an opponent\n",
    "transition_occurrences = np.array(\n",
    "    [\n",
    "        [0, 0, 4],\n",
    "        [2, 4, 0],\n",
    "        [4, 0, 2]\n",
    "    ]\n",
    ")\n",
    "\n",
    "# Define the probabilistic strategy of an opponent that we don't know, yet we try to beat it with our model\n",
    "opponent_strategy = [0.1, 0.5, 0.4]\n",
    "\n",
    "# Define initial balance\n",
    "balance = 0\n",
    "balance_track = []"
   ],
   "metadata": {
    "collapsed": false
   },
   "id": "11e6ade60f2acf9f",
   "execution_count": null
  },
  {
   "cell_type": "code",
   "outputs": [],
   "source": [
    "conducted_games = 1000\n",
    "last_opponent_move = np.random.choice(states, p=opponent_strategy)\n",
    "for _ in range(conducted_games):\n",
    "    # Predict opponent's next move using the model's learning matrix\n",
    "    current_state_index = states.index(last_opponent_move)\n",
    "    row_sum = np.sum(transition_occurrences[current_state_index])\n",
    "    if row_sum > 0:\n",
    "        probabilities_of_opponent_next_move = transition_occurrences[current_state_index] / row_sum\n",
    "    else:\n",
    "        # If there's no data for a row (row_sum is 0), assume a uniform distribution for the next state\n",
    "        probabilities_of_opponent_next_move = np.ones(len(states)) / len(states)\n",
    "\n",
    "    predicted_opponent_next_move = np.random.choice(states, p=probabilities_of_opponent_next_move)\n",
    "    # Choose an appropriate move to beat the potential next opponent's move\n",
    "    my_move = winning_moves[predicted_opponent_next_move]\n",
    "\n",
    "    # Get opponent's actual move based on his strategy\n",
    "    opponent_actual_move = np.random.choice(states, p=opponent_strategy)\n",
    "\n",
    "    # Check if prediction was right and update balance accordingly\n",
    "    winning_move = winning_moves[opponent_actual_move]\n",
    "    if my_move == winning_move:\n",
    "        balance += 1\n",
    "    elif my_move == opponent_actual_move:\n",
    "        balance += 0\n",
    "    else:\n",
    "        balance -= 1\n",
    "\n",
    "    balance_track.append(balance)\n",
    "\n",
    "    # Update transition occurrences matrix\n",
    "    next_state_index = states.index(opponent_actual_move)\n",
    "    transition_occurrences[current_state_index][next_state_index] += 1\n",
    "\n",
    "    # Update current state for the next iteration\n",
    "    last_opponent_move = opponent_actual_move"
   ],
   "metadata": {
    "collapsed": false
   },
   "id": "372f6b7a523b2177",
   "execution_count": null
  },
  {
   "cell_type": "code",
   "outputs": [],
   "source": [
    "# Create line plot\n",
    "plt.figure(figsize=(14, 7))\n",
    "plt.plot(range(conducted_games), balance_track)\n",
    "plt.title('Balance Change During Rock-Paper-Scissors Games')\n",
    "plt.xlabel('Number of Games Conducted')\n",
    "plt.ylabel('Cumulative Balance')\n",
    "plt.grid(True)  # Optional: Adds a grid to the plot for better readability\n",
    "plt.show()"
   ],
   "metadata": {
    "collapsed": false
   },
   "id": "f0c3423c53f95a46",
   "execution_count": null
  }
 ],
 "metadata": {
  "kernelspec": {
   "display_name": "Python 3",
   "language": "python",
   "name": "python3"
  },
  "language_info": {
   "codemirror_mode": {
    "name": "ipython",
    "version": 2
   },
   "file_extension": ".py",
   "mimetype": "text/x-python",
   "name": "python",
   "nbconvert_exporter": "python",
   "pygments_lexer": "ipython2",
   "version": "2.7.6"
  }
 },
 "nbformat": 4,
 "nbformat_minor": 5
}
